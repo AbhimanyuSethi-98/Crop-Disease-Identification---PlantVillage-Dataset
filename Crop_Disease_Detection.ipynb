{
  "nbformat": 4,
  "nbformat_minor": 0,
  "metadata": {
    "colab": {
      "name": "Crop_Disease_Detection.ipynb",
      "provenance": [],
      "collapsed_sections": [],
      "authorship_tag": "ABX9TyMjRYp6JmqV2RGGpEwsmCp2",
      "include_colab_link": true
    },
    "kernelspec": {
      "name": "python3",
      "display_name": "Python 3"
    },
    "accelerator": "GPU"
  },
  "cells": [
    {
      "cell_type": "markdown",
      "metadata": {
        "id": "view-in-github",
        "colab_type": "text"
      },
      "source": [
        "<a href=\"https://colab.research.google.com/github/gollum-98/Crop-Disease-Identification---PlantVillage-Dataset/blob/master/Crop_Disease_Detection.ipynb\" target=\"_parent\"><img src=\"https://colab.research.google.com/assets/colab-badge.svg\" alt=\"Open In Colab\"/></a>"
      ]
    },
    {
      "cell_type": "code",
      "metadata": {
        "id": "6oVfvnY9APqR",
        "colab_type": "code",
        "colab": {}
      },
      "source": [
        "#Importing the necessary packages\n",
        "import numpy as np\n",
        "import tensorflow as tf\n",
        "from tensorflow.keras.preprocessing.image import ImageDataGenerator\n",
        "import matplotlib.pyplot as plt\n",
        "from PIL import Image\n",
        "import os"
      ],
      "execution_count": 1,
      "outputs": []
    },
    {
      "cell_type": "code",
      "metadata": {
        "id": "QM1KA7N0Z8QT",
        "colab_type": "code",
        "colab": {
          "base_uri": "https://localhost:8080/",
          "height": 118
        },
        "outputId": "e761d3ac-d394-46f3-e91d-2c6616d87e29"
      },
      "source": [
        "#Cloning the PlantVillage-Dataset from Github, containing nd exciting dataset I found was the PlantVillage-Dataset by spMohanty on Github:  \n",
        "#Containing raw, graysscale and segmented images of various categories of images of different plants – \n",
        "#both healthy and disease-ridden leaf images classified into 38 labels (54,306 images, 26 diseases, 14 crop species\n",
        "!git clone https://github.com/spMohanty/PlantVillage-Dataset.git"
      ],
      "execution_count": 2,
      "outputs": [
        {
          "output_type": "stream",
          "text": [
            "Cloning into 'PlantVillage-Dataset'...\n",
            "remote: Enumerating objects: 163229, done.\u001b[K\n",
            "remote: Total 163229 (delta 0), reused 0 (delta 0), pack-reused 163229\u001b[K\n",
            "Receiving objects: 100% (163229/163229), 2.00 GiB | 39.38 MiB/s, done.\n",
            "Resolving deltas: 100% (99/99), done.\n",
            "Checking out files: 100% (182401/182401), done.\n"
          ],
          "name": "stdout"
        }
      ]
    },
    {
      "cell_type": "code",
      "metadata": {
        "id": "gSfNNnl6cGRd",
        "colab_type": "code",
        "colab": {
          "base_uri": "https://localhost:8080/",
          "height": 1000
        },
        "outputId": "3145e2ab-4a9e-4b2d-8ca4-d943097b706a"
      },
      "source": [
        "#Using Transfer Learning and using the VGG-19 architecture used for \"Very Deep Convolutional Networks for Large-Scale Image Recognition\"\n",
        "pretrained_model = tf.keras.applications.VGG19(include_top=True,weights='imagenet',input_shape=(224,224,3))\n",
        "#Keeping top layers included to summarize and view the top dense layers as well\n",
        "pretrained_model.summary()"
      ],
      "execution_count": 3,
      "outputs": [
        {
          "output_type": "stream",
          "text": [
            "Downloading data from https://storage.googleapis.com/tensorflow/keras-applications/vgg19/vgg19_weights_tf_dim_ordering_tf_kernels.h5\n",
            "574717952/574710816 [==============================] - 4s 0us/step\n",
            "Model: \"vgg19\"\n",
            "_________________________________________________________________\n",
            "Layer (type)                 Output Shape              Param #   \n",
            "=================================================================\n",
            "input_1 (InputLayer)         [(None, 224, 224, 3)]     0         \n",
            "_________________________________________________________________\n",
            "block1_conv1 (Conv2D)        (None, 224, 224, 64)      1792      \n",
            "_________________________________________________________________\n",
            "block1_conv2 (Conv2D)        (None, 224, 224, 64)      36928     \n",
            "_________________________________________________________________\n",
            "block1_pool (MaxPooling2D)   (None, 112, 112, 64)      0         \n",
            "_________________________________________________________________\n",
            "block2_conv1 (Conv2D)        (None, 112, 112, 128)     73856     \n",
            "_________________________________________________________________\n",
            "block2_conv2 (Conv2D)        (None, 112, 112, 128)     147584    \n",
            "_________________________________________________________________\n",
            "block2_pool (MaxPooling2D)   (None, 56, 56, 128)       0         \n",
            "_________________________________________________________________\n",
            "block3_conv1 (Conv2D)        (None, 56, 56, 256)       295168    \n",
            "_________________________________________________________________\n",
            "block3_conv2 (Conv2D)        (None, 56, 56, 256)       590080    \n",
            "_________________________________________________________________\n",
            "block3_conv3 (Conv2D)        (None, 56, 56, 256)       590080    \n",
            "_________________________________________________________________\n",
            "block3_conv4 (Conv2D)        (None, 56, 56, 256)       590080    \n",
            "_________________________________________________________________\n",
            "block3_pool (MaxPooling2D)   (None, 28, 28, 256)       0         \n",
            "_________________________________________________________________\n",
            "block4_conv1 (Conv2D)        (None, 28, 28, 512)       1180160   \n",
            "_________________________________________________________________\n",
            "block4_conv2 (Conv2D)        (None, 28, 28, 512)       2359808   \n",
            "_________________________________________________________________\n",
            "block4_conv3 (Conv2D)        (None, 28, 28, 512)       2359808   \n",
            "_________________________________________________________________\n",
            "block4_conv4 (Conv2D)        (None, 28, 28, 512)       2359808   \n",
            "_________________________________________________________________\n",
            "block4_pool (MaxPooling2D)   (None, 14, 14, 512)       0         \n",
            "_________________________________________________________________\n",
            "block5_conv1 (Conv2D)        (None, 14, 14, 512)       2359808   \n",
            "_________________________________________________________________\n",
            "block5_conv2 (Conv2D)        (None, 14, 14, 512)       2359808   \n",
            "_________________________________________________________________\n",
            "block5_conv3 (Conv2D)        (None, 14, 14, 512)       2359808   \n",
            "_________________________________________________________________\n",
            "block5_conv4 (Conv2D)        (None, 14, 14, 512)       2359808   \n",
            "_________________________________________________________________\n",
            "block5_pool (MaxPooling2D)   (None, 7, 7, 512)         0         \n",
            "_________________________________________________________________\n",
            "flatten (Flatten)            (None, 25088)             0         \n",
            "_________________________________________________________________\n",
            "fc1 (Dense)                  (None, 4096)              102764544 \n",
            "_________________________________________________________________\n",
            "fc2 (Dense)                  (None, 4096)              16781312  \n",
            "_________________________________________________________________\n",
            "predictions (Dense)          (None, 1000)              4097000   \n",
            "=================================================================\n",
            "Total params: 143,667,240\n",
            "Trainable params: 143,667,240\n",
            "Non-trainable params: 0\n",
            "_________________________________________________________________\n"
          ],
          "name": "stdout"
        }
      ]
    },
    {
      "cell_type": "code",
      "metadata": {
        "id": "JXucr8_QjsL6",
        "colab_type": "code",
        "colab": {
          "base_uri": "https://localhost:8080/",
          "height": 924
        },
        "outputId": "f700fd2f-44d8-4b87-f5ca-b963fe16b044"
      },
      "source": [
        "pretrained_model = tf.keras.applications.VGG19(include_top=False,weights='imagenet',input_shape=(224,224,3))\n",
        "#Using the VGG-19 model without the top dense layers\n",
        "pretrained_model.summary()"
      ],
      "execution_count": 4,
      "outputs": [
        {
          "output_type": "stream",
          "text": [
            "Downloading data from https://storage.googleapis.com/tensorflow/keras-applications/vgg19/vgg19_weights_tf_dim_ordering_tf_kernels_notop.h5\n",
            "80142336/80134624 [==============================] - 1s 0us/step\n",
            "Model: \"vgg19\"\n",
            "_________________________________________________________________\n",
            "Layer (type)                 Output Shape              Param #   \n",
            "=================================================================\n",
            "input_2 (InputLayer)         [(None, 224, 224, 3)]     0         \n",
            "_________________________________________________________________\n",
            "block1_conv1 (Conv2D)        (None, 224, 224, 64)      1792      \n",
            "_________________________________________________________________\n",
            "block1_conv2 (Conv2D)        (None, 224, 224, 64)      36928     \n",
            "_________________________________________________________________\n",
            "block1_pool (MaxPooling2D)   (None, 112, 112, 64)      0         \n",
            "_________________________________________________________________\n",
            "block2_conv1 (Conv2D)        (None, 112, 112, 128)     73856     \n",
            "_________________________________________________________________\n",
            "block2_conv2 (Conv2D)        (None, 112, 112, 128)     147584    \n",
            "_________________________________________________________________\n",
            "block2_pool (MaxPooling2D)   (None, 56, 56, 128)       0         \n",
            "_________________________________________________________________\n",
            "block3_conv1 (Conv2D)        (None, 56, 56, 256)       295168    \n",
            "_________________________________________________________________\n",
            "block3_conv2 (Conv2D)        (None, 56, 56, 256)       590080    \n",
            "_________________________________________________________________\n",
            "block3_conv3 (Conv2D)        (None, 56, 56, 256)       590080    \n",
            "_________________________________________________________________\n",
            "block3_conv4 (Conv2D)        (None, 56, 56, 256)       590080    \n",
            "_________________________________________________________________\n",
            "block3_pool (MaxPooling2D)   (None, 28, 28, 256)       0         \n",
            "_________________________________________________________________\n",
            "block4_conv1 (Conv2D)        (None, 28, 28, 512)       1180160   \n",
            "_________________________________________________________________\n",
            "block4_conv2 (Conv2D)        (None, 28, 28, 512)       2359808   \n",
            "_________________________________________________________________\n",
            "block4_conv3 (Conv2D)        (None, 28, 28, 512)       2359808   \n",
            "_________________________________________________________________\n",
            "block4_conv4 (Conv2D)        (None, 28, 28, 512)       2359808   \n",
            "_________________________________________________________________\n",
            "block4_pool (MaxPooling2D)   (None, 14, 14, 512)       0         \n",
            "_________________________________________________________________\n",
            "block5_conv1 (Conv2D)        (None, 14, 14, 512)       2359808   \n",
            "_________________________________________________________________\n",
            "block5_conv2 (Conv2D)        (None, 14, 14, 512)       2359808   \n",
            "_________________________________________________________________\n",
            "block5_conv3 (Conv2D)        (None, 14, 14, 512)       2359808   \n",
            "_________________________________________________________________\n",
            "block5_conv4 (Conv2D)        (None, 14, 14, 512)       2359808   \n",
            "_________________________________________________________________\n",
            "block5_pool (MaxPooling2D)   (None, 7, 7, 512)         0         \n",
            "=================================================================\n",
            "Total params: 20,024,384\n",
            "Trainable params: 20,024,384\n",
            "Non-trainable params: 0\n",
            "_________________________________________________________________\n"
          ],
          "name": "stdout"
        }
      ]
    },
    {
      "cell_type": "code",
      "metadata": {
        "id": "v8cHD-aKi0p5",
        "colab_type": "code",
        "colab": {}
      },
      "source": [
        "#Freezing the layers of the VGG-19 model so that they are not trainable\n",
        "for layer in pretrained_model.layers:\n",
        "  layer.trainable = False\n",
        "#pretrained_model.get_layer(\"block5_conv1\").trainable = True\n",
        "#pretrained_model.get_layer(\"block5_conv2\").trainable = True\n",
        "#pretrained_model.get_layer(\"block5_conv3\").trainable = True\n",
        "#pretrained_model.get_layer(\"block5_conv4\").trainable = True\n",
        "#pretrained_model.get_layer(\"block5_pool\").trainable = True"
      ],
      "execution_count": 5,
      "outputs": []
    },
    {
      "cell_type": "code",
      "metadata": {
        "id": "6DDwEomFj8Fa",
        "colab_type": "code",
        "colab": {}
      },
      "source": [
        "#Getting output of last layer of VGG-19 model's frozen layers\n",
        "last_layer = pretrained_model.get_layer(\"block5_pool\")\n",
        "output = last_layer.output\n",
        "#Implementing the Top Dense Layers\n",
        "X = tf.keras.layers.Flatten()(output)\n",
        "X = tf.keras.layers.Dense(2048,activation=\"relu\")(X)\n",
        "X = tf.keras.layers.Dense(1024,activation=\"relu\")(X)\n",
        "X = tf.keras.layers.Dense(38,activation=\"softmax\")(X)\n",
        "model = tf.keras.models.Model(inputs=pretrained_model.input,outputs=X)\n",
        "tf.keras.backend.clear_session()\n",
        "model.compile(loss=\"categorical_crossentropy\",optimizer=\"adam\",metrics=[\"accuracy\"])"
      ],
      "execution_count": 11,
      "outputs": []
    },
    {
      "cell_type": "code",
      "metadata": {
        "id": "VJ2W6fC-Ay8-",
        "colab_type": "code",
        "colab": {
          "base_uri": "https://localhost:8080/",
          "height": 722
        },
        "outputId": "99cc1bd8-169c-4046-c37e-021f43e667d2"
      },
      "source": [
        "#Preprocessing the data using Keras' ImageDataGenerator\n",
        "train_datagen = ImageDataGenerator(rescale=1/255.0, rotation_range=20,\n",
        "      width_shift_range=0.1,\n",
        "      height_shift_range=0.1,\n",
        "      shear_range=0.1,\n",
        "      zoom_range=0.1,\n",
        "      horizontal_flip=True,\n",
        "      fill_mode='nearest',\n",
        "      validation_split=0.2)\n",
        "batch_size = 128\n",
        "train_generator = train_datagen.flow_from_directory(\"/content/PlantVillage-Dataset/raw/color\"\n",
        "                                                    ,batch_size=128,target_size=(224,224),class_mode=\"categorical\",subset=\"training\")\n",
        "validation_generator = train_datagen.flow_from_directory(\"/content/PlantVillage-Dataset/raw/color\"\n",
        "                                                    ,batch_size=128,target_size=(224,224),class_mode=\"categorical\",subset=\"validation\")\n",
        "history = model.fit(train_generator,steps_per_epoch=train_generator.samples//batch_size,validation_data=validation_generator,validation_steps=validation_generator.samples//batch_size,epochs=20,verbose=1)"
      ],
      "execution_count": 12,
      "outputs": [
        {
          "output_type": "stream",
          "text": [
            "Found 43456 images belonging to 38 classes.\n",
            "Found 10849 images belonging to 38 classes.\n",
            "Epoch 1/20\n",
            "339/339 [==============================] - 692s 2s/step - loss: 1.3115 - accuracy: 0.7257 - val_loss: 0.4660 - val_accuracy: 0.8503\n",
            "Epoch 2/20\n",
            "339/339 [==============================] - 681s 2s/step - loss: 0.3732 - accuracy: 0.8756 - val_loss: 0.3277 - val_accuracy: 0.8917\n",
            "Epoch 3/20\n",
            "339/339 [==============================] - 680s 2s/step - loss: 0.2993 - accuracy: 0.8990 - val_loss: 0.3283 - val_accuracy: 0.8895\n",
            "Epoch 4/20\n",
            "339/339 [==============================] - 681s 2s/step - loss: 0.2694 - accuracy: 0.9102 - val_loss: 0.2684 - val_accuracy: 0.9116\n",
            "Epoch 5/20\n",
            "339/339 [==============================] - 682s 2s/step - loss: 0.2332 - accuracy: 0.9209 - val_loss: 0.2947 - val_accuracy: 0.9074\n",
            "Epoch 6/20\n",
            "339/339 [==============================] - 682s 2s/step - loss: 0.2209 - accuracy: 0.9246 - val_loss: 0.2223 - val_accuracy: 0.9289\n",
            "Epoch 7/20\n",
            "339/339 [==============================] - 680s 2s/step - loss: 0.2086 - accuracy: 0.9290 - val_loss: 0.2235 - val_accuracy: 0.9266\n",
            "Epoch 8/20\n",
            "339/339 [==============================] - 676s 2s/step - loss: 0.2009 - accuracy: 0.9298 - val_loss: 0.2521 - val_accuracy: 0.9170\n",
            "Epoch 9/20\n",
            "339/339 [==============================] - 680s 2s/step - loss: 0.1813 - accuracy: 0.9374 - val_loss: 0.2450 - val_accuracy: 0.9187\n",
            "Epoch 10/20\n",
            "339/339 [==============================] - 681s 2s/step - loss: 0.1762 - accuracy: 0.9384 - val_loss: 0.2056 - val_accuracy: 0.9334\n",
            "Epoch 11/20\n",
            "339/339 [==============================] - 678s 2s/step - loss: 0.1681 - accuracy: 0.9422 - val_loss: 0.2227 - val_accuracy: 0.9304\n",
            "Epoch 12/20\n",
            "339/339 [==============================] - 676s 2s/step - loss: 0.1577 - accuracy: 0.9440 - val_loss: 0.2144 - val_accuracy: 0.9321\n",
            "Epoch 13/20\n",
            "339/339 [==============================] - 682s 2s/step - loss: 0.1568 - accuracy: 0.9456 - val_loss: 0.1817 - val_accuracy: 0.9409\n",
            "Epoch 14/20\n",
            "339/339 [==============================] - 690s 2s/step - loss: 0.1527 - accuracy: 0.9470 - val_loss: 0.2058 - val_accuracy: 0.9331\n",
            "Epoch 15/20\n",
            "339/339 [==============================] - 681s 2s/step - loss: 0.1529 - accuracy: 0.9473 - val_loss: 0.2205 - val_accuracy: 0.9296\n",
            "Epoch 16/20\n",
            "339/339 [==============================] - 675s 2s/step - loss: 0.1400 - accuracy: 0.9506 - val_loss: 0.2018 - val_accuracy: 0.9347\n",
            "Epoch 17/20\n",
            "339/339 [==============================] - 674s 2s/step - loss: 0.1430 - accuracy: 0.9508 - val_loss: 0.1885 - val_accuracy: 0.9397\n",
            "Epoch 18/20\n",
            "339/339 [==============================] - 673s 2s/step - loss: 0.1372 - accuracy: 0.9521 - val_loss: 0.2198 - val_accuracy: 0.9273\n",
            "Epoch 19/20\n",
            "339/339 [==============================] - 674s 2s/step - loss: 0.1388 - accuracy: 0.9525 - val_loss: 0.1842 - val_accuracy: 0.9411\n",
            "Epoch 20/20\n",
            "339/339 [==============================] - 671s 2s/step - loss: 0.1371 - accuracy: 0.9527 - val_loss: 0.2113 - val_accuracy: 0.9305\n"
          ],
          "name": "stdout"
        }
      ]
    },
    {
      "cell_type": "code",
      "metadata": {
        "id": "StGYzH9ltYg8",
        "colab_type": "code",
        "colab": {}
      },
      "source": [
        "#Visualizing loss and accuracy over the training period for training and validation sets\n",
        "loss = history.history['loss']\n",
        "accuracy = history.history['accuracy']\n",
        "val_loss = history.history['val_loss']\n",
        "val_accuracy = history.history['val_accuracy']\n",
        "epoch = range(len(loss))\n",
        "plt.figure()\n",
        "plt.plot(epoch,loss)\n",
        "plt.plot(epoch,val_loss)\n",
        "plt.xlabel(\"Epoch#\")\n",
        "plt.ylabel(\"Accuracy/Loss\")\n",
        "plt.title(\"Loss\")\n",
        "plt.show()\n",
        "plt.figure()\n",
        "plt.plot(epoch,accuracy)\n",
        "plt.plot(epoch,val_accuracy)\n",
        "plt.xlabel(\"Epoch#\")\n",
        "plt.ylabel(\"Val Accuracy/Loss\")\n",
        "plt.title(\"Accuracy\")\n",
        "plt.show()"
      ],
      "execution_count": null,
      "outputs": []
    }
  ]
}